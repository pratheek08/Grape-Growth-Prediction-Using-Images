{
  "nbformat": 4,
  "nbformat_minor": 0,
  "metadata": {
    "colab": {
      "provenance": [],
      "gpuType": "T4",
      "include_colab_link": true
    },
    "kernelspec": {
      "name": "python3",
      "display_name": "Python 3"
    },
    "language_info": {
      "name": "python"
    },
    "accelerator": "GPU"
  },
  "cells": [
    {
      "cell_type": "markdown",
      "metadata": {
        "id": "view-in-github",
        "colab_type": "text"
      },
      "source": [
        "<a href=\"https://colab.research.google.com/github/pratheek08/Grape-Growth-Prediction-Using-Images/blob/main/DigiCrop1(train).ipynb\" target=\"_parent\"><img src=\"https://colab.research.google.com/assets/colab-badge.svg\" alt=\"Open In Colab\"/></a>"
      ]
    },
    {
      "cell_type": "code",
      "source": [
        "from google.colab import drive\n",
        "drive.mount('/content/drive')"
      ],
      "metadata": {
        "colab": {
          "base_uri": "https://localhost:8080/"
        },
        "id": "GfjrI9uRpt-n",
        "outputId": "2cd93970-3d10-4311-bb15-722715ae4b96"
      },
      "execution_count": null,
      "outputs": [
        {
          "output_type": "stream",
          "name": "stdout",
          "text": [
            "Mounted at /content/drive\n"
          ]
        }
      ]
    },
    {
      "cell_type": "code",
      "source": [
        "# !nvidia-smi"
      ],
      "metadata": {
        "colab": {
          "base_uri": "https://localhost:8080/"
        },
        "id": "y2zUPh9Vsplz",
        "outputId": "13e8a88d-753a-48c6-9894-7825018cd67e"
      },
      "execution_count": null,
      "outputs": [
        {
          "output_type": "stream",
          "name": "stdout",
          "text": [
            "Fri Sep  8 16:50:46 2023       \n",
            "+-----------------------------------------------------------------------------+\n",
            "| NVIDIA-SMI 525.105.17   Driver Version: 525.105.17   CUDA Version: 12.0     |\n",
            "|-------------------------------+----------------------+----------------------+\n",
            "| GPU  Name        Persistence-M| Bus-Id        Disp.A | Volatile Uncorr. ECC |\n",
            "| Fan  Temp  Perf  Pwr:Usage/Cap|         Memory-Usage | GPU-Util  Compute M. |\n",
            "|                               |                      |               MIG M. |\n",
            "|===============================+======================+======================|\n",
            "|   0  Tesla T4            Off  | 00000000:00:04.0 Off |                    0 |\n",
            "| N/A   36C    P8    10W /  70W |      0MiB / 15360MiB |      0%      Default |\n",
            "|                               |                      |                  N/A |\n",
            "+-------------------------------+----------------------+----------------------+\n",
            "                                                                               \n",
            "+-----------------------------------------------------------------------------+\n",
            "| Processes:                                                                  |\n",
            "|  GPU   GI   CI        PID   Type   Process name                  GPU Memory |\n",
            "|        ID   ID                                                   Usage      |\n",
            "|=============================================================================|\n",
            "|  No running processes found                                                 |\n",
            "+-----------------------------------------------------------------------------+\n"
          ]
        }
      ]
    },
    {
      "cell_type": "code",
      "source": [
        "# pip install --upgrade pip"
      ],
      "metadata": {
        "colab": {
          "base_uri": "https://localhost:8080/"
        },
        "id": "t75dsrgduGsW",
        "outputId": "8b776ee3-9afc-4000-840d-185c65ad88cb"
      },
      "execution_count": null,
      "outputs": [
        {
          "output_type": "stream",
          "name": "stdout",
          "text": [
            "Requirement already satisfied: pip in /usr/local/lib/python3.10/dist-packages (23.1.2)\n",
            "Collecting pip\n",
            "  Downloading pip-23.2.1-py3-none-any.whl (2.1 MB)\n",
            "\u001b[2K     \u001b[90m━━━━━━━━━━━━━━━━━━━━━━━━━━━━━━━━━━━━━━━━\u001b[0m \u001b[32m2.1/2.1 MB\u001b[0m \u001b[31m9.5 MB/s\u001b[0m eta \u001b[36m0:00:00\u001b[0m\n",
            "\u001b[?25hInstalling collected packages: pip\n",
            "  Attempting uninstall: pip\n",
            "    Found existing installation: pip 23.1.2\n",
            "    Uninstalling pip-23.1.2:\n",
            "      Successfully uninstalled pip-23.1.2\n",
            "Successfully installed pip-23.2.1\n"
          ]
        }
      ]
    },
    {
      "cell_type": "code",
      "source": [
        "# pip uninstall tensorflow-gpu"
      ],
      "metadata": {
        "colab": {
          "base_uri": "https://localhost:8080/"
        },
        "id": "zPsonIkEtFbj",
        "outputId": "d4bb057f-37b0-407e-c00f-189043ff3930"
      },
      "execution_count": null,
      "outputs": [
        {
          "output_type": "stream",
          "name": "stdout",
          "text": [
            "\u001b[33mWARNING: Skipping tensorflow-gpu as it is not installed.\u001b[0m\u001b[33m\n",
            "\u001b[0m\u001b[33mWARNING: Running pip as the 'root' user can result in broken permissions and conflicting behaviour with the system package manager. It is recommended to use a virtual environment instead: https://pip.pypa.io/warnings/venv\u001b[0m\u001b[33m\n",
            "\u001b[0m"
          ]
        }
      ]
    },
    {
      "cell_type": "code",
      "source": [
        "# !pip install tensorflow-gpu"
      ],
      "metadata": {
        "colab": {
          "base_uri": "https://localhost:8080/"
        },
        "id": "QD7XmhbGubKD",
        "outputId": "5c9dcbb1-9e9b-4d4e-982e-be968887e17d"
      },
      "execution_count": null,
      "outputs": [
        {
          "output_type": "stream",
          "name": "stdout",
          "text": [
            "Collecting tensorflow-gpu\n",
            "  Using cached tensorflow-gpu-2.12.0.tar.gz (2.6 kB)\n",
            "  \u001b[1;31merror\u001b[0m: \u001b[1msubprocess-exited-with-error\u001b[0m\n",
            "  \n",
            "  \u001b[31m×\u001b[0m \u001b[32mpython setup.py egg_info\u001b[0m did not run successfully.\n",
            "  \u001b[31m│\u001b[0m exit code: \u001b[1;36m1\u001b[0m\n",
            "  \u001b[31m╰─>\u001b[0m See above for output.\n",
            "  \n",
            "  \u001b[1;35mnote\u001b[0m: This error originates from a subprocess, and is likely not a problem with pip.\n",
            "  Preparing metadata (setup.py) ... \u001b[?25l\u001b[?25herror\n",
            "\u001b[1;31merror\u001b[0m: \u001b[1mmetadata-generation-failed\u001b[0m\n",
            "\n",
            "\u001b[31m×\u001b[0m Encountered error while generating package metadata.\n",
            "\u001b[31m╰─>\u001b[0m See above for output.\n",
            "\n",
            "\u001b[1;35mnote\u001b[0m: This is an issue with the package mentioned above, not pip.\n",
            "\u001b[1;36mhint\u001b[0m: See above for details.\n"
          ]
        }
      ]
    },
    {
      "cell_type": "code",
      "source": [
        "# pip install opencv-python"
      ],
      "metadata": {
        "colab": {
          "base_uri": "https://localhost:8080/"
        },
        "id": "k4NI8k4bgxq2",
        "outputId": "59a0aaf6-431e-4a2b-8497-38bfc0b2e3e4"
      },
      "execution_count": null,
      "outputs": [
        {
          "output_type": "stream",
          "name": "stdout",
          "text": [
            "Requirement already satisfied: opencv-python in /usr/local/lib/python3.10/dist-packages (4.8.0.76)\n",
            "Requirement already satisfied: numpy>=1.21.2 in /usr/local/lib/python3.10/dist-packages (from opencv-python) (1.23.5)\n"
          ]
        }
      ]
    },
    {
      "cell_type": "code",
      "source": [
        "# !pip install -q keras"
      ],
      "metadata": {
        "id": "2eVJFjr5k2HT"
      },
      "execution_count": null,
      "outputs": []
    },
    {
      "cell_type": "code",
      "source": [
        "import keras"
      ],
      "metadata": {
        "id": "c9csnCFilD0H"
      },
      "execution_count": null,
      "outputs": []
    },
    {
      "cell_type": "markdown",
      "source": [
        "#importing libraries"
      ],
      "metadata": {
        "id": "NYhXCuiqxB1B"
      }
    },
    {
      "cell_type": "code",
      "source": [
        "import numpy as np\n",
        "import tensorflow as tf\n",
        "import matplotlib.pyplot as plt\n",
        "import os\n",
        "import cv2\n",
        "# from keras.models import load_model\n",
        "# from keras.layers import Lambda\n",
        "import imghdr"
      ],
      "metadata": {
        "id": "CfXhwOkFwnDq"
      },
      "execution_count": null,
      "outputs": []
    },
    {
      "cell_type": "code",
      "source": [
        "data_dir = '/content/drive/MyDrive/dataset/train'"
      ],
      "metadata": {
        "id": "pInKZ8uDe0E1"
      },
      "execution_count": null,
      "outputs": []
    },
    {
      "cell_type": "markdown",
      "source": [
        "#Data preprocessing"
      ],
      "metadata": {
        "id": "gxZTnEE-xbCx"
      }
    },
    {
      "cell_type": "markdown",
      "source": [
        "##Training Image Preprocessing"
      ],
      "metadata": {
        "id": "N3YjYUmuxwEI"
      }
    },
    {
      "cell_type": "code",
      "source": [
        "import numpy as np\n",
        "import tensorflow as tf\n",
        "import matplotlib.pyplot as plt\n",
        "# from keras.models import load_model\n",
        "# from keras.layers import Lambda\n",
        "import os\n",
        "import cv2\n",
        "\n",
        "\n",
        "# train_path = '/content/drive/MyDrive/dataset/train_data'\n",
        "# test_path = '/content/drive/MyDrive/dataset/test_data'\n",
        "# DATADIR =  '/content/drive/MyDrive/dataset'\n",
        "# CATEGORIES = [\"Leaf\", \"Fruits\"]\n",
        "\n",
        "training_set = tf.keras.utils.image_dataset_from_directory(\n",
        "    '/content/drive/MyDrive/dataset/train',\n",
        "    labels=\"inferred\",\n",
        "    label_mode=\"categorical\",\n",
        "    class_names=None,\n",
        "    color_mode=\"rgb\",\n",
        "    batch_size=32,\n",
        "    image_size=(64, 64),\n",
        "    shuffle=True,\n",
        "    seed=None,\n",
        "    validation_split=None,\n",
        "    subset=None,\n",
        "    interpolation=\"bilinear\",\n",
        "    follow_links=False,\n",
        "    crop_to_aspect_ratio=False\n",
        ")\n"
      ],
      "metadata": {
        "id": "TtnmDhfixZgZ",
        "colab": {
          "base_uri": "https://localhost:8080/"
        },
        "outputId": "0f157357-db51-47c3-a88a-e5248cc38218"
      },
      "execution_count": null,
      "outputs": [
        {
          "output_type": "stream",
          "name": "stdout",
          "text": [
            "Found 93 files belonging to 6 classes.\n"
          ]
        }
      ]
    },
    {
      "cell_type": "markdown",
      "source": [
        "##Validation Image Preprocessing"
      ],
      "metadata": {
        "id": "S-fjKNbzz3Qg"
      }
    },
    {
      "cell_type": "code",
      "source": [
        "validation_set = tf.keras.utils.image_dataset_from_directory(\n",
        "    '/content/drive/MyDrive/dataset/test',\n",
        "    labels=\"inferred\",\n",
        "    label_mode=\"categorical\",\n",
        "    class_names=None,\n",
        "    color_mode=\"rgb\",\n",
        "    batch_size=32,\n",
        "    image_size=(64, 64),\n",
        "    shuffle=True,\n",
        "    seed=None,\n",
        "    validation_split=None,\n",
        "    subset=None,\n",
        "    interpolation=\"bilinear\",\n",
        "    follow_links=False,\n",
        "    crop_to_aspect_ratio=False\n",
        ")"
      ],
      "metadata": {
        "colab": {
          "base_uri": "https://localhost:8080/"
        },
        "id": "lSDGHoWyz8T8",
        "outputId": "617d9bb2-08c3-4036-a755-54f7b173065d"
      },
      "execution_count": null,
      "outputs": [
        {
          "output_type": "stream",
          "name": "stdout",
          "text": [
            "Found 45 files belonging to 6 classes.\n"
          ]
        }
      ]
    },
    {
      "cell_type": "markdown",
      "source": [
        "##Building Model"
      ],
      "metadata": {
        "id": "NZVcim4Xvtuz"
      }
    },
    {
      "cell_type": "code",
      "source": [
        "cnn = tf.keras.models.Sequential()"
      ],
      "metadata": {
        "id": "ViMHl3fRwGFc"
      },
      "execution_count": null,
      "outputs": []
    },
    {
      "cell_type": "markdown",
      "source": [
        "##Building Convolutional Layer"
      ],
      "metadata": {
        "id": "28Z68ZkcxJvJ"
      }
    },
    {
      "cell_type": "code",
      "source": [
        "cnn.add(tf.keras.layers.Conv2D(filters=32,kernel_size=3,padding='same',activation='relu',input_shape=[64,64,3]))\n",
        "cnn.add(tf.keras.layers.Conv2D(filters=32,kernel_size=3,activation='relu'))\n",
        "cnn.add(tf.keras.layers.MaxPool2D(pool_size=2,strides=2))"
      ],
      "metadata": {
        "id": "xcUUoKkZxQKF"
      },
      "execution_count": null,
      "outputs": []
    },
    {
      "cell_type": "code",
      "source": [
        "cnn.add(tf.keras.layers.Dropout(0.25))"
      ],
      "metadata": {
        "id": "QMoWfAsQ1qOO"
      },
      "execution_count": null,
      "outputs": []
    },
    {
      "cell_type": "code",
      "source": [
        "cnn.add(tf.keras.layers.Conv2D(filters=32,kernel_size=3,padding='same',activation='relu'))\n",
        "cnn.add(tf.keras.layers.Conv2D(filters=32,kernel_size=3,activation='relu'))\n",
        "cnn.add(tf.keras.layers.MaxPool2D(pool_size=2,strides=2))"
      ],
      "metadata": {
        "id": "CLvT0WEXzC4z"
      },
      "execution_count": null,
      "outputs": []
    },
    {
      "cell_type": "code",
      "source": [
        "cnn.add(tf.keras.layers.Dropout(0.25))\n",
        "\n",
        "\n",
        "cnn.add(tf.keras.layers.Flatten())\n",
        "\n",
        "\n",
        "cnn.add(tf.keras.layers.Dense(units=512,activation='relu'))\n",
        "\n",
        "\n",
        "cnn.add(tf.keras.layers.Dense(units=256,activation='relu'))\n",
        "\n",
        "\n",
        "cnn.add(tf.keras.layers.Dropout(0.5)) #To avoid overfitting\n",
        "\n",
        "\n",
        "#Output Layer\n",
        "cnn.add(tf.keras.layers.Dense(units=6,activation='softmax'))"
      ],
      "metadata": {
        "id": "X6oShc8j122d"
      },
      "execution_count": null,
      "outputs": []
    },
    {
      "cell_type": "markdown",
      "source": [
        "##Compiling and Training Phase"
      ],
      "metadata": {
        "id": "JGEAoiZs15iv"
      }
    },
    {
      "cell_type": "code",
      "source": [
        "cnn.compile(optimizer='adam',loss='categorical_crossentropy',metrics=['accuracy'])"
      ],
      "metadata": {
        "id": "obDGhEwL2AWe"
      },
      "execution_count": null,
      "outputs": []
    },
    {
      "cell_type": "code",
      "source": [
        "cnn.summary()"
      ],
      "metadata": {
        "colab": {
          "base_uri": "https://localhost:8080/"
        },
        "id": "XtcxDSQX2Hpe",
        "outputId": "9a77a60b-0d50-4909-f806-90b0260293f6"
      },
      "execution_count": null,
      "outputs": [
        {
          "output_type": "stream",
          "name": "stdout",
          "text": [
            "Model: \"sequential\"\n",
            "_________________________________________________________________\n",
            " Layer (type)                Output Shape              Param #   \n",
            "=================================================================\n",
            " conv2d (Conv2D)             (None, 64, 64, 32)        896       \n",
            "                                                                 \n",
            " conv2d_1 (Conv2D)           (None, 62, 62, 32)        9248      \n",
            "                                                                 \n",
            " max_pooling2d (MaxPooling2  (None, 31, 31, 32)        0         \n",
            " D)                                                              \n",
            "                                                                 \n",
            " dropout (Dropout)           (None, 31, 31, 32)        0         \n",
            "                                                                 \n",
            " conv2d_2 (Conv2D)           (None, 31, 31, 32)        9248      \n",
            "                                                                 \n",
            " conv2d_3 (Conv2D)           (None, 29, 29, 32)        9248      \n",
            "                                                                 \n",
            " max_pooling2d_1 (MaxPoolin  (None, 14, 14, 32)        0         \n",
            " g2D)                                                            \n",
            "                                                                 \n",
            " dropout_1 (Dropout)         (None, 14, 14, 32)        0         \n",
            "                                                                 \n",
            " flatten (Flatten)           (None, 6272)              0         \n",
            "                                                                 \n",
            " dense (Dense)               (None, 512)               3211776   \n",
            "                                                                 \n",
            " dense_1 (Dense)             (None, 256)               131328    \n",
            "                                                                 \n",
            " dropout_2 (Dropout)         (None, 256)               0         \n",
            "                                                                 \n",
            " dense_2 (Dense)             (None, 6)                 1542      \n",
            "                                                                 \n",
            "=================================================================\n",
            "Total params: 3373286 (12.87 MB)\n",
            "Trainable params: 3373286 (12.87 MB)\n",
            "Non-trainable params: 0 (0.00 Byte)\n",
            "_________________________________________________________________\n"
          ]
        }
      ]
    },
    {
      "cell_type": "code",
      "source": [
        "training_history = cnn.fit(x=training_set,validation_data=validation_set,epochs=6)"
      ],
      "metadata": {
        "colab": {
          "base_uri": "https://localhost:8080/"
        },
        "id": "vyxyCuk12UOE",
        "outputId": "a9979104-dacb-40c2-b601-ced0d2a06469"
      },
      "execution_count": null,
      "outputs": [
        {
          "output_type": "stream",
          "name": "stdout",
          "text": [
            "Epoch 1/6\n",
            "3/3 [==============================] - 43s 4s/step - loss: 85.2178 - accuracy: 0.1828 - val_loss: 16.9004 - val_accuracy: 0.0667\n",
            "Epoch 2/6\n",
            "3/3 [==============================] - 3s 654ms/step - loss: 30.1501 - accuracy: 0.1398 - val_loss: 6.3393 - val_accuracy: 0.3556\n",
            "Epoch 3/6\n",
            "3/3 [==============================] - 1s 331ms/step - loss: 10.6517 - accuracy: 0.2366 - val_loss: 2.2428 - val_accuracy: 0.3556\n",
            "Epoch 4/6\n",
            "3/3 [==============================] - 1s 230ms/step - loss: 4.8898 - accuracy: 0.1398 - val_loss: 1.8174 - val_accuracy: 0.2222\n",
            "Epoch 5/6\n",
            "3/3 [==============================] - 2s 282ms/step - loss: 2.7723 - accuracy: 0.1505 - val_loss: 1.7765 - val_accuracy: 0.2889\n",
            "Epoch 6/6\n",
            "3/3 [==============================] - 1s 214ms/step - loss: 2.0967 - accuracy: 0.1828 - val_loss: 1.7703 - val_accuracy: 0.2222\n"
          ]
        }
      ]
    },
    {
      "cell_type": "markdown",
      "source": [
        "##Evaluating Model"
      ],
      "metadata": {
        "id": "XbFwJyO51Qsq"
      }
    },
    {
      "cell_type": "code",
      "source": [
        "#Training set Accuracy\n",
        "train_loss, train_acc = cnn.evaluate(training_set)\n",
        "print('Training accuracy:', train_acc)"
      ],
      "metadata": {
        "colab": {
          "base_uri": "https://localhost:8080/"
        },
        "id": "RF7va_0D1T_4",
        "outputId": "661f29d0-d9e2-4be7-8b7b-538994bef597"
      },
      "execution_count": null,
      "outputs": [
        {
          "output_type": "stream",
          "name": "stdout",
          "text": [
            "3/3 [==============================] - 1s 10ms/step - loss: 1.7281 - accuracy: 0.2796\n",
            "Training accuracy: 0.2795698940753937\n"
          ]
        }
      ]
    },
    {
      "cell_type": "code",
      "source": [
        "#Validation set Accuracy\n",
        "val_loss, val_acc = cnn.evaluate(validation_set)\n",
        "print('Validation accuracy:', val_acc)"
      ],
      "metadata": {
        "colab": {
          "base_uri": "https://localhost:8080/"
        },
        "id": "I_wYeDVD1aV6",
        "outputId": "4ae48b17-fa2d-4aa8-e721-83f585bf39c8"
      },
      "execution_count": null,
      "outputs": [
        {
          "output_type": "stream",
          "name": "stdout",
          "text": [
            "2/2 [==============================] - 0s 10ms/step - loss: 1.7703 - accuracy: 0.2222\n",
            "Validation accuracy: 0.2222222238779068\n"
          ]
        }
      ]
    },
    {
      "cell_type": "markdown",
      "source": [
        "##Saving Model"
      ],
      "metadata": {
        "id": "omlUnJqo1i7f"
      }
    },
    {
      "cell_type": "code",
      "source": [
        "cnn.save('trained_model.h5')"
      ],
      "metadata": {
        "id": "NfrXDwzk1miB"
      },
      "execution_count": null,
      "outputs": []
    },
    {
      "cell_type": "code",
      "source": [
        "training_history.history #Return Dictionary of history"
      ],
      "metadata": {
        "colab": {
          "base_uri": "https://localhost:8080/"
        },
        "id": "xw_kPSwc1ec1",
        "outputId": "9bb40216-2dd2-4ac2-9b6d-c7ef2e902f67"
      },
      "execution_count": null,
      "outputs": [
        {
          "output_type": "execute_result",
          "data": {
            "text/plain": [
              "{'loss': [104.25946044921875,\n",
              "  38.59128189086914,\n",
              "  10.858450889587402,\n",
              "  2.8666605949401855,\n",
              "  1.902300477027893,\n",
              "  1.819899082183838],\n",
              " 'accuracy': [0.1505376398563385,\n",
              "  0.19354838132858276,\n",
              "  0.23655913770198822,\n",
              "  0.20430107414722443,\n",
              "  0.19354838132858276,\n",
              "  0.32258063554763794],\n",
              " 'val_loss': [32.77556610107422,\n",
              "  3.442782163619995,\n",
              "  1.92783522605896,\n",
              "  1.8262922763824463,\n",
              "  1.7590287923812866,\n",
              "  1.7762267589569092],\n",
              " 'val_accuracy': [0.08888889104127884,\n",
              "  0.17777778208255768,\n",
              "  0.3333333432674408,\n",
              "  0.13333334028720856,\n",
              "  0.2222222238779068,\n",
              "  0.17777778208255768]}"
            ]
          },
          "metadata": {},
          "execution_count": 17
        }
      ]
    },
    {
      "cell_type": "code",
      "source": [
        "#Recording History in json\n",
        "import json\n",
        "with open('training_hist.json','w') as f:\n",
        "  json.dump(training_history.history,f)"
      ],
      "metadata": {
        "id": "wlBaCCV-2i1g"
      },
      "execution_count": null,
      "outputs": []
    },
    {
      "cell_type": "code",
      "source": [
        "print(training_history.history.keys())"
      ],
      "metadata": {
        "colab": {
          "base_uri": "https://localhost:8080/"
        },
        "id": "VO_yZRDJ2juk",
        "outputId": "212cd1cf-8f78-4d41-daae-e268b79de5cc"
      },
      "execution_count": null,
      "outputs": [
        {
          "output_type": "stream",
          "name": "stdout",
          "text": [
            "dict_keys(['loss', 'accuracy', 'val_loss', 'val_accuracy'])\n"
          ]
        }
      ]
    },
    {
      "cell_type": "markdown",
      "source": [
        "##Calculating Accuracy of Model Achieved on Validation set"
      ],
      "metadata": {
        "id": "YpJd6X082663"
      }
    },
    {
      "cell_type": "code",
      "source": [
        "print(\"Validation set Accuracy: {} %\".format(training_history.history['val_accuracy'][-1]*100))"
      ],
      "metadata": {
        "colab": {
          "base_uri": "https://localhost:8080/"
        },
        "id": "vFCV71F526DY",
        "outputId": "e5ea0fc0-0859-45c4-88b7-37b7bc69b3c9"
      },
      "execution_count": null,
      "outputs": [
        {
          "output_type": "stream",
          "name": "stdout",
          "text": [
            "Validation set Accuracy: 17.777778208255768 %\n"
          ]
        }
      ]
    },
    {
      "cell_type": "markdown",
      "source": [
        "#Accuracy Visualisation"
      ],
      "metadata": {
        "id": "Qa2t_uxW3DVA"
      }
    },
    {
      "cell_type": "code",
      "source": [
        "os.listdir(data_dir)"
      ],
      "metadata": {
        "colab": {
          "base_uri": "https://localhost:8080/"
        },
        "id": "A7hTv4LCeCXf",
        "outputId": "4297bd82-3952-4b9e-bf2f-ef434de7ab58"
      },
      "execution_count": null,
      "outputs": [
        {
          "output_type": "execute_result",
          "data": {
            "text/plain": [
              "['stage6', 'stage4', 'stage3', 'stage5', 'stage2', 'stage1']"
            ]
          },
          "metadata": {},
          "execution_count": 9
        }
      ]
    },
    {
      "cell_type": "code",
      "source": [
        "img = cv2.imread(os.path.join('data_dir', 'stage1', '1 (1).jpeg'))"
      ],
      "metadata": {
        "id": "FoBP31EIfDfH"
      },
      "execution_count": null,
      "outputs": []
    },
    {
      "cell_type": "markdown",
      "source": [
        "##Training Visualisation"
      ],
      "metadata": {
        "id": "_nT-TS_53djn"
      }
    },
    {
      "cell_type": "code",
      "source": [
        "training_history.history['accuracy']"
      ],
      "metadata": {
        "colab": {
          "base_uri": "https://localhost:8080/"
        },
        "id": "UlEbgKat3sSo",
        "outputId": "c6160612-0496-493f-a5f4-e0f37ecaad04"
      },
      "execution_count": null,
      "outputs": [
        {
          "output_type": "execute_result",
          "data": {
            "text/plain": [
              "[0.1827957034111023,\n",
              " 0.13978494703769684,\n",
              " 0.23655913770198822,\n",
              " 0.13978494703769684,\n",
              " 0.1505376398563385,\n",
              " 0.1827957034111023]"
            ]
          },
          "metadata": {},
          "execution_count": 21
        }
      ]
    }
  ]
}